{
 "cells": [
  {
   "cell_type": "markdown",
   "id": "9b80211c-75dc-4225-b5fa-22b3064a9d59",
   "metadata": {},
   "source": [
    "# Fourierreihen\n"
   ]
  },
  {
   "cell_type": "code",
   "execution_count": null,
   "id": "078ed650-7875-407f-819a-269c34d130aa",
   "metadata": {},
   "outputs": [],
   "source": []
  }
 ],
 "metadata": {
  "kernelspec": {
   "display_name": "Python 3 (ipykernel)",
   "language": "python",
   "name": "python3"
  },
  "language_info": {
   "codemirror_mode": {
    "name": "ipython",
    "version": 3
   },
   "file_extension": ".py",
   "mimetype": "text/x-python",
   "name": "python",
   "nbconvert_exporter": "python",
   "pygments_lexer": "ipython3",
   "version": "3.11.3"
  }
 },
 "nbformat": 4,
 "nbformat_minor": 5
}
